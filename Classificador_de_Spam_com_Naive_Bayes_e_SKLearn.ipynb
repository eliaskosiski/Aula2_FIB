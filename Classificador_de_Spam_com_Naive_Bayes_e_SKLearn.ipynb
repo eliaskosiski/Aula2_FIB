{
  "nbformat": 4,
  "nbformat_minor": 0,
  "metadata": {
    "colab": {
      "name": "Classificador de Spam com Naive Bayes e SKLearn.ipynb",
      "provenance": [],
      "include_colab_link": true
    },
    "kernelspec": {
      "name": "python3",
      "display_name": "Python 3"
    },
    "language_info": {
      "name": "python"
    }
  },
  "cells": [
    {
      "cell_type": "markdown",
      "metadata": {
        "id": "view-in-github",
        "colab_type": "text"
      },
      "source": [
        "<a href=\"https://colab.research.google.com/github/eliaskosiski/Aula2---FIB/blob/master/Classificador_de_Spam_com_Naive_Bayes_e_SKLearn.ipynb\" target=\"_parent\"><img src=\"https://colab.research.google.com/assets/colab-badge.svg\" alt=\"Open In Colab\"/></a>"
      ]
    },
    {
      "cell_type": "code",
      "metadata": {
        "id": "tdSF5YyA0ClM"
      },
      "source": [
        "import numpy\n",
        "from sklearn.feature_extraction.text import CountVectorizer"
      ],
      "execution_count": 23,
      "outputs": []
    },
    {
      "cell_type": "code",
      "metadata": {
        "id": "GIw7esWcMJKt"
      },
      "source": [
        "from sklearn.naive_bayes import BernoulliNB"
      ],
      "execution_count": 24,
      "outputs": []
    },
    {
      "cell_type": "code",
      "metadata": {
        "id": "gazMsjzQy4ox"
      },
      "source": [
        "import os\n",
        "\n",
        "NEWLINE = '\\n'\n",
        "SKIP_FILES = set(['cmds'])\n",
        "\n",
        "\n",
        "def read_files(path):\n",
        "    for root, dir_names, file_names in os.walk(path):\n",
        "        for path in dir_names:\n",
        "            read_files(os.path.join(root, path))\n",
        "\n",
        "    for file_name in file_names:\n",
        "        if file_name not in SKIP_FILES:\n",
        "            file_path = os.path.join(root, file_name)\n",
        "\n",
        "        if os.path.isfile(file_path):\n",
        "            past_header, lines = False, []\n",
        "\n",
        "            #f = open(file_path)\n",
        "\n",
        "            f = open(file_path, mode=\"r\", encoding=\"Latin-1\")\n",
        "            for line in f:\n",
        "                if past_header:\n",
        "                    lines.append(line)\n",
        "\n",
        "                elif line == NEWLINE:\n",
        "                    past_header = True\n",
        "            f.close()\n",
        "\n",
        "\n",
        "            yield file_path, NEWLINE.join(lines)#.decode('cp1252', 'ignore')\n",
        "            "
      ],
      "execution_count": 25,
      "outputs": []
    },
    {
      "cell_type": "code",
      "metadata": {
        "id": "ti7TOowFzA2A"
      },
      "source": [
        "from pandas import DataFrame\n",
        "\n",
        "def build_data_frame(path, classification):\n",
        "  data_frame = DataFrame({'text': [], 'class': []})\n",
        "\n",
        "\n",
        "  for file_name, text in read_files(path):\n",
        "    data_frame = data_frame.append(\n",
        "        DataFrame({'text': [text], 'class': [classification]}, index=[file_name]))\n",
        "    \n",
        "\n",
        "  return data_frame\n",
        "  "
      ],
      "execution_count": 26,
      "outputs": []
    },
    {
      "cell_type": "code",
      "metadata": {
        "id": "l7lUNuUDzEiv"
      },
      "source": [
        "HAM = 0\n",
        "SPAM = 1\n",
        "\n",
        "\n",
        "SOURCES = [\n",
        "      ('/content/drive/MyDrive/spamassassin/spam', SPAM),\n",
        "      ('/content/drive/MyDrive/spamassassin/hard_ham', HAM),\n",
        "      ('/content/drive/MyDrive/spamassassin/easy_ham', HAM)\n",
        "    ]\n",
        "\n",
        "\n",
        "data = DataFrame({'text': [], 'class': []})\n",
        "for path, classification in SOURCES:\n",
        "  data = data.append(build_data_frame(path, classification))\n",
        "\n",
        "  \n",
        "data = data.reindex(numpy.random.permutation(data.index))\n"
      ],
      "execution_count": null,
      "outputs": []
    },
    {
      "cell_type": "code",
      "metadata": {
        "id": "tvwr_wAD0Pyc"
      },
      "source": [
        "count_vectorizer = CountVectorizer()\n",
        "\n",
        "counts = count_vectorizer.fit_transform(numpy.asarray(data['text']))\n"
      ],
      "execution_count": null,
      "outputs": []
    },
    {
      "cell_type": "code",
      "metadata": {
        "id": "hszShM7N69Uw"
      },
      "source": [
        "from sklearn.naive_bayes import MultinomialNB\n",
        "\n",
        "classifier = MultinomialNB()\n",
        "\n",
        "targets = numpy.asarray(data['class'])\n",
        "\n",
        "classifier.fit(counts, targets)\n"
      ],
      "execution_count": null,
      "outputs": []
    },
    {
      "cell_type": "code",
      "metadata": {
        "id": "LL4PFYctD7Sk"
      },
      "source": [
        "examples = ['Free Viagra call today!', \"I'm going to attend the Linux users group tomorrow.\"]\n",
        "\n",
        "example_counts = count_vectorizer.transform(examples)\n",
        "\n",
        "\n",
        "predictions = classifier.predict(example_counts)\n",
        "predictions # [1, 0]\n"
      ],
      "execution_count": null,
      "outputs": []
    },
    {
      "cell_type": "code",
      "metadata": {
        "id": "7cXYY_seFcDK"
      },
      "source": [
        "from sklearn.pipeline import Pipeline\n",
        "\n",
        "pipeline = Pipeline([\n",
        "  ('vectorizer',  CountVectorizer()),\n",
        "  ('classifier',  MultinomialNB()) ])\n",
        "\n",
        "\n",
        "pipeline.fit(numpy.asarray(data['text']), numpy.asarray(data['class']))\n",
        "pipeline.predict(examples) # [1, 0]\n"
      ],
      "execution_count": null,
      "outputs": []
    },
    {
      "cell_type": "code",
      "metadata": {
        "id": "w_U3gk5cIiSy"
      },
      "source": [
        "pipeline = Pipeline([\n",
        "  ('count_vectorizer',   CountVectorizer(ngram_range=(1, 2))),\n",
        "\n",
        "  ('classifier',         BernoulliNB(binarize=0.0)) ])\n"
      ],
      "execution_count": 28,
      "outputs": []
    },
    {
      "cell_type": "code",
      "metadata": {
        "id": "kF3AHnroN2JX"
      },
      "source": [
        "pipeline = Pipeline([\n",
        "  ('count_vectorizer',   CountVectorizer(ngram_range=(1, 2))),\n",
        "\n",
        "  ('classifier',         BernoulliNB(binarize=0.0)) ])\n"
      ],
      "execution_count": 29,
      "outputs": []
    },
    {
      "cell_type": "code",
      "metadata": {
        "colab": {
          "base_uri": "https://localhost:8080/",
          "height": 49
        },
        "id": "T-4f1nnXMV3u",
        "outputId": "b6ecc0fe-b96d-4032-812f-bbc4b731cb46"
      },
      "source": [
        "data"
      ],
      "execution_count": 30,
      "outputs": [
        {
          "output_type": "execute_result",
          "data": {
            "text/html": [
              "<div>\n",
              "<style scoped>\n",
              "    .dataframe tbody tr th:only-of-type {\n",
              "        vertical-align: middle;\n",
              "    }\n",
              "\n",
              "    .dataframe tbody tr th {\n",
              "        vertical-align: top;\n",
              "    }\n",
              "\n",
              "    .dataframe thead th {\n",
              "        text-align: right;\n",
              "    }\n",
              "</style>\n",
              "<table border=\"1\" class=\"dataframe\">\n",
              "  <thead>\n",
              "    <tr style=\"text-align: right;\">\n",
              "      <th></th>\n",
              "      <th>text</th>\n",
              "      <th>class</th>\n",
              "    </tr>\n",
              "  </thead>\n",
              "  <tbody>\n",
              "  </tbody>\n",
              "</table>\n",
              "</div>"
            ],
            "text/plain": [
              "Empty DataFrame\n",
              "Columns: [text, class]\n",
              "Index: []"
            ]
          },
          "metadata": {},
          "execution_count": 30
        }
      ]
    }
  ]
}